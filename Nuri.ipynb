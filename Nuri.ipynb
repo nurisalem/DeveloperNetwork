{
  "nbformat": 4,
  "nbformat_minor": 0,
  "metadata": {
    "colab": {
      "name": "Nuri.ipynb",
      "version": "0.3.2",
      "provenance": [],
      "include_colab_link": true
    },
    "kernelspec": {
      "name": "python3",
      "display_name": "Python 3"
    }
  },
  "cells": [
    {
      "cell_type": "markdown",
      "metadata": {
        "id": "view-in-github",
        "colab_type": "text"
      },
      "source": [
        "<a href=\"https://colab.research.google.com/github/nurisalem/DeveloperNetwork/blob/master/Nuri.ipynb\" target=\"_parent\"><img src=\"https://colab.research.google.com/assets/colab-badge.svg\" alt=\"Open In Colab\"/></a>"
      ]
    },
    {
      "cell_type": "code",
      "metadata": {
        "id": "6af2BkdE2k7a",
        "colab_type": "code",
        "colab": {}
      },
      "source": [
        ""
      ],
      "execution_count": 0,
      "outputs": []
    },
    {
      "cell_type": "code",
      "metadata": {
        "id": "Lme13opDxP1i",
        "colab_type": "code",
        "colab": {}
      },
      "source": [
        "from sklearn.model_selection import cross_validate\n",
        "from sklearn.metrics.scorer import make_scorer\n",
        "from sklearn.metrics import confusion_matrix\n",
        "import pandas as pd\n",
        "from sklearn.tree import DecisionTreeClassifier\n",
        "from sklearn.ensemble import RandomForestClassifier\n",
        "from sklearn.metrics import accuracy_score\n",
        "from sklearn.metrics import f1_score\n",
        "from sklearn.metrics import precision_score\n",
        "from sklearn.metrics import recall_score"
      ],
      "execution_count": 0,
      "outputs": []
    },
    {
      "cell_type": "code",
      "metadata": {
        "id": "YJVQjd6RyVn-",
        "colab_type": "code",
        "outputId": "1fe72219-8755-4f2d-e48d-edb8ec0817ae",
        "colab": {
          "base_uri": "https://localhost:8080/",
          "height": 85
        }
      },
      "source": [
        "df = pd.read_csv(\"datasets.csv\")\n",
        "df.columns"
      ],
      "execution_count": 0,
      "outputs": [
        {
          "output_type": "execute_result",
          "data": {
            "text/plain": [
              "Index(['ID', 'NoD', 'TAP', 'LCP', 'DC', 'BC', 'CC', 'TZ', 'CD', 'RCD', 'SD',\n",
              "       'RSD', 'ND', 'NT', 'LCT', 'NAC', 'NC', 'NCZ', 'NAZ', 'NCC', 'BFN', 'FN',\n",
              "       'TFP', 'TFN', 'OSE', 'BCE', 'PDE', 'SV', 'OS', 'SDS', 'RS', 'TFS'],\n",
              "      dtype='object')"
            ]
          },
          "metadata": {
            "tags": []
          },
          "execution_count": 6
        }
      ]
    },
    {
      "cell_type": "code",
      "metadata": {
        "id": "7UBqEAJizEgK",
        "colab_type": "code",
        "colab": {}
      },
      "source": [
        "df=df.drop(columns=[\"ID\"])"
      ],
      "execution_count": 0,
      "outputs": []
    },
    {
      "cell_type": "code",
      "metadata": {
        "id": "PIzYj-LwzJce",
        "colab_type": "code",
        "colab": {}
      },
      "source": [
        "#train_test for the first column \n",
        "X = df.drop(columns=['OSE','BCE', 'PDE', 'SV', 'OS', 'SDS', 'RS', 'TFS'])\n",
        "y = df['OSE'] "
      ],
      "execution_count": 0,
      "outputs": []
    },
    {
      "cell_type": "code",
      "metadata": {
        "id": "A1fPSynj1TH8",
        "colab_type": "code",
        "colab": {}
      },
      "source": [
        "dt_classifier = DecisionTreeClassifier()\n",
        "random_forest = RandomForestClassifier()\n",
        "scoring = {'f1': make_scorer(f1_score), 'Accuracy': make_scorer(accuracy_score),'recall': make_scorer(recall_score), 'precision': make_scorer(precision_score)}"
      ],
      "execution_count": 0,
      "outputs": []
    },
    {
      "cell_type": "code",
      "metadata": {
        "id": "pUlGJ_gWzpBY",
        "colab_type": "code",
        "colab": {}
      },
      "source": [
        "decision_tree_cv_results = cross_validate(dt_classifier, X, y, cv=10,scoring=scoring,return_train_score=True)"
      ],
      "execution_count": 0,
      "outputs": []
    },
    {
      "cell_type": "code",
      "metadata": {
        "id": "oDVL6WPR254R",
        "colab_type": "code",
        "outputId": "ca0955ff-0dad-4830-db45-3ddaac4c8e7d",
        "colab": {
          "base_uri": "https://localhost:8080/",
          "height": 51
        }
      },
      "source": [
        "print(decision_tree_cv_results['test_Accuracy'])"
      ],
      "execution_count": 0,
      "outputs": [
        {
          "output_type": "stream",
          "text": [
            "[1.         0.875      1.         1.         1.         1.\n",
            " 0.71428571 1.         1.         1.        ]\n"
          ],
          "name": "stdout"
        }
      ]
    },
    {
      "cell_type": "code",
      "metadata": {
        "id": "8HyLn90m2T4S",
        "colab_type": "code",
        "outputId": "e7be68f5-e858-4fcc-9f08-8ed60baeceaa",
        "colab": {
          "base_uri": "https://localhost:8080/",
          "height": 163
        }
      },
      "source": [
        "print(\"Accuracy:\",metrics.accuracy_score(x, y))\n"
      ],
      "execution_count": 0,
      "outputs": [
        {
          "output_type": "error",
          "ename": "NameError",
          "evalue": "ignored",
          "traceback": [
            "\u001b[0;31m---------------------------------------------------------------------------\u001b[0m",
            "\u001b[0;31mNameError\u001b[0m                                 Traceback (most recent call last)",
            "\u001b[0;32m<ipython-input-1-7c930397ed5d>\u001b[0m in \u001b[0;36m<module>\u001b[0;34m()\u001b[0m\n\u001b[0;32m----> 1\u001b[0;31m \u001b[0mprint\u001b[0m\u001b[0;34m(\u001b[0m\u001b[0;34m\"Accuracy:\"\u001b[0m\u001b[0;34m,\u001b[0m\u001b[0mmetrics\u001b[0m\u001b[0;34m.\u001b[0m\u001b[0maccuracy_score\u001b[0m\u001b[0;34m(\u001b[0m\u001b[0mx\u001b[0m\u001b[0;34m,\u001b[0m \u001b[0my\u001b[0m\u001b[0;34m)\u001b[0m\u001b[0;34m)\u001b[0m\u001b[0;34m\u001b[0m\u001b[0;34m\u001b[0m\u001b[0m\n\u001b[0m",
            "\u001b[0;31mNameError\u001b[0m: name 'metrics' is not defined"
          ]
        }
      ]
    },
    {
      "cell_type": "code",
      "metadata": {
        "id": "c9SZtDrm71N7",
        "colab_type": "code",
        "outputId": "d235874e-e4b4-4836-9d9d-0bdc4fe75114",
        "colab": {
          "base_uri": "https://localhost:8080/",
          "height": 34
        }
      },
      "source": [
        "print(decision_tree_cv_results['train_Accuracy'])"
      ],
      "execution_count": 0,
      "outputs": [
        {
          "output_type": "stream",
          "text": [
            "[1. 1. 1. 1. 1. 1. 1. 1. 1. 1.]\n"
          ],
          "name": "stdout"
        }
      ]
    },
    {
      "cell_type": "code",
      "metadata": {
        "id": "25TFH8zP28DG",
        "colab_type": "code",
        "outputId": "4bf5098e-a8cc-463e-fbb2-21d407c6a3d1",
        "colab": {
          "base_uri": "https://localhost:8080/",
          "height": 377
        }
      },
      "source": [
        "random_forest_cv_results = cross_validate(random_forest, X, y, cv=10,scoring=scoring,return_train_score=True)"
      ],
      "execution_count": 0,
      "outputs": [
        {
          "output_type": "stream",
          "text": [
            "/usr/local/lib/python3.6/dist-packages/sklearn/ensemble/forest.py:245: FutureWarning: The default value of n_estimators will change from 10 in version 0.20 to 100 in 0.22.\n",
            "  \"10 in version 0.20 to 100 in 0.22.\", FutureWarning)\n",
            "/usr/local/lib/python3.6/dist-packages/sklearn/ensemble/forest.py:245: FutureWarning: The default value of n_estimators will change from 10 in version 0.20 to 100 in 0.22.\n",
            "  \"10 in version 0.20 to 100 in 0.22.\", FutureWarning)\n",
            "/usr/local/lib/python3.6/dist-packages/sklearn/ensemble/forest.py:245: FutureWarning: The default value of n_estimators will change from 10 in version 0.20 to 100 in 0.22.\n",
            "  \"10 in version 0.20 to 100 in 0.22.\", FutureWarning)\n",
            "/usr/local/lib/python3.6/dist-packages/sklearn/ensemble/forest.py:245: FutureWarning: The default value of n_estimators will change from 10 in version 0.20 to 100 in 0.22.\n",
            "  \"10 in version 0.20 to 100 in 0.22.\", FutureWarning)\n",
            "/usr/local/lib/python3.6/dist-packages/sklearn/ensemble/forest.py:245: FutureWarning: The default value of n_estimators will change from 10 in version 0.20 to 100 in 0.22.\n",
            "  \"10 in version 0.20 to 100 in 0.22.\", FutureWarning)\n",
            "/usr/local/lib/python3.6/dist-packages/sklearn/ensemble/forest.py:245: FutureWarning: The default value of n_estimators will change from 10 in version 0.20 to 100 in 0.22.\n",
            "  \"10 in version 0.20 to 100 in 0.22.\", FutureWarning)\n",
            "/usr/local/lib/python3.6/dist-packages/sklearn/ensemble/forest.py:245: FutureWarning: The default value of n_estimators will change from 10 in version 0.20 to 100 in 0.22.\n",
            "  \"10 in version 0.20 to 100 in 0.22.\", FutureWarning)\n",
            "/usr/local/lib/python3.6/dist-packages/sklearn/ensemble/forest.py:245: FutureWarning: The default value of n_estimators will change from 10 in version 0.20 to 100 in 0.22.\n",
            "  \"10 in version 0.20 to 100 in 0.22.\", FutureWarning)\n",
            "/usr/local/lib/python3.6/dist-packages/sklearn/ensemble/forest.py:245: FutureWarning: The default value of n_estimators will change from 10 in version 0.20 to 100 in 0.22.\n",
            "  \"10 in version 0.20 to 100 in 0.22.\", FutureWarning)\n",
            "/usr/local/lib/python3.6/dist-packages/sklearn/ensemble/forest.py:245: FutureWarning: The default value of n_estimators will change from 10 in version 0.20 to 100 in 0.22.\n",
            "  \"10 in version 0.20 to 100 in 0.22.\", FutureWarning)\n"
          ],
          "name": "stderr"
        }
      ]
    },
    {
      "cell_type": "code",
      "metadata": {
        "id": "2Z3Vc1LZ3M3E",
        "colab_type": "code",
        "outputId": "8d6e9f99-405f-425b-c2ce-afb1da900288",
        "colab": {
          "base_uri": "https://localhost:8080/",
          "height": 224
        }
      },
      "source": [
        "print(random_forest_cv_results)"
      ],
      "execution_count": 0,
      "outputs": [
        {
          "output_type": "stream",
          "text": [
            "{'fit_time': array([0.01759124, 0.01188612, 0.01367736, 0.01409364, 0.01122117,\n",
            "       0.0114007 , 0.01070046, 0.01138735, 0.01392841, 0.01146221]), 'score_time': array([0.01034737, 0.0102787 , 0.01110673, 0.01054096, 0.01002026,\n",
            "       0.00995088, 0.01068783, 0.01029992, 0.01053786, 0.0108006 ]), 'test_f1': array([0.72727273, 0.83333333, 0.92307692, 0.83333333, 1.        ,\n",
            "       1.        , 0.8       , 1.        , 1.        , 0.90909091]), 'train_f1': array([0.98113208, 1.        , 1.        , 0.99065421, 1.        ,\n",
            "       0.99047619, 0.99047619, 1.        , 1.        , 1.        ]), 'test_Accuracy': array([0.625     , 0.75      , 0.875     , 0.75      , 1.        ,\n",
            "       1.        , 0.71428571, 1.        , 1.        , 0.83333333]), 'train_Accuracy': array([0.96969697, 1.        , 1.        , 0.98484848, 1.        ,\n",
            "       0.98507463, 0.98507463, 1.        , 1.        , 1.        ]), 'test_recall': array([0.66666667, 0.83333333, 1.        , 0.83333333, 1.        ,\n",
            "       1.        , 0.66666667, 1.        , 1.        , 1.        ]), 'train_recall': array([0.98113208, 1.        , 1.        , 1.        , 1.        ,\n",
            "       0.98113208, 0.98113208, 1.        , 1.        , 1.        ]), 'test_precision': array([0.8       , 0.83333333, 0.85714286, 0.83333333, 1.        ,\n",
            "       1.        , 1.        , 1.        , 1.        , 0.83333333]), 'train_precision': array([0.98113208, 1.        , 1.        , 0.98148148, 1.        ,\n",
            "       1.        , 1.        , 1.        , 1.        , 1.        ])}\n"
          ],
          "name": "stdout"
        }
      ]
    },
    {
      "cell_type": "code",
      "metadata": {
        "id": "gl0i7OcK3QOP",
        "colab_type": "code",
        "outputId": "c436ffbb-d282-4aa5-d1e2-8aaacb052c42",
        "colab": {
          "base_uri": "https://localhost:8080/",
          "height": 51
        }
      },
      "source": [
        "print(random_forest_cv_results['test_Accuracy'])"
      ],
      "execution_count": 0,
      "outputs": [
        {
          "output_type": "stream",
          "text": [
            "[0.625      0.75       0.875      0.75       1.         1.\n",
            " 0.71428571 1.         1.         0.83333333]\n"
          ],
          "name": "stdout"
        }
      ]
    },
    {
      "cell_type": "code",
      "metadata": {
        "id": "igaHZArSCx-Y",
        "colab_type": "code",
        "outputId": "9696f000-2c34-4ea5-e9b6-a70953463e15",
        "colab": {
          "base_uri": "https://localhost:8080/",
          "height": 51
        }
      },
      "source": [
        "print(random_forest_cv_results['train_Accuracy'])"
      ],
      "execution_count": 0,
      "outputs": [
        {
          "output_type": "stream",
          "text": [
            "[0.96969697 1.         1.         0.98484848 1.         0.98507463\n",
            " 0.98507463 1.         1.         1.        ]\n"
          ],
          "name": "stdout"
        }
      ]
    }
  ]
}